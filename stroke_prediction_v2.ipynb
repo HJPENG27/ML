{
  "nbformat": 4,
  "nbformat_minor": 0,
  "metadata": {
    "kernelspec": {
      "language": "python",
      "display_name": "Python 3",
      "name": "python3"
    },
    "language_info": {
      "name": "python",
      "version": "3.7.9",
      "mimetype": "text/x-python",
      "codemirror_mode": {
        "name": "ipython",
        "version": 3
      },
      "pygments_lexer": "ipython3",
      "nbconvert_exporter": "python",
      "file_extension": ".py"
    },
    "colab": {
      "name": "stroke-prediction-v2.ipynb",
      "provenance": [],
      "collapsed_sections": [
        "L6Qon28vYBAe",
        "aMzAPR3OYBAg",
        "Wr5ijX99YBAj",
        "W_lpJUP8YBAj",
        "-CJrGNYYYBAl",
        "UZdMtsoqYBAn",
        "5AG9btRBYBAo"
      ]
    }
  },
  "cells": [
    {
      "cell_type": "code",
      "metadata": {
        "_uuid": "8f2839f25d086af736a60e9eeb907d3b93b6e0e5",
        "_cell_guid": "b1076dfc-b9ad-4769-8c92-a6c4dae69d19",
        "trusted": true,
        "id": "ljkcWrHFYBAC",
        "outputId": "553448a4-5c0b-439c-c1d2-3a605e015920"
      },
      "source": [
        "# This Python 3 environment comes with many helpful analytics libraries installed\n",
        "# It is defined by the kaggle/python Docker image: https://github.com/kaggle/docker-python\n",
        "# For example, here's several helpful packages to load\n",
        "\n",
        "import numpy as np # linear algebra\n",
        "import pandas as pd # data processing, CSV file I/O (e.g. pd.read_csv)\n",
        "\n",
        "# Input data files are available in the read-only \"../input/\" directory\n",
        "# For example, running this (by clicking run or pressing Shift+Enter) will list all files under the input directory\n",
        "\n",
        "import os\n",
        "for dirname, _, filenames in os.walk('/kaggle/input'):\n",
        "    for filename in filenames:\n",
        "        print(os.path.join(dirname, filename))\n",
        "\n",
        "# You can write up to 20GB to the current directory (/kaggle/working/) that gets preserved as output when you create a version using \"Save & Run All\" \n",
        "# You can also write temporary files to /kaggle/temp/, but they won't be saved outside of the current session"
      ],
      "execution_count": null,
      "outputs": [
        {
          "output_type": "stream",
          "text": [
            "/kaggle/input/stroke-prediction-dataset/healthcare-dataset-stroke-data.csv\n"
          ],
          "name": "stdout"
        }
      ]
    },
    {
      "cell_type": "code",
      "metadata": {
        "trusted": true,
        "id": "Xf6ZkZtSYBAG"
      },
      "source": [
        "import warnings\n",
        "warnings.filterwarnings('ignore')"
      ],
      "execution_count": null,
      "outputs": []
    },
    {
      "cell_type": "code",
      "metadata": {
        "trusted": true,
        "id": "GDzm05onYBAJ",
        "outputId": "4a49cc2c-61ad-47f6-a733-e2a88c33d1fe"
      },
      "source": [
        "df = pd.read_csv('../input/stroke-prediction-dataset/healthcare-dataset-stroke-data.csv')\n",
        "df.head()"
      ],
      "execution_count": null,
      "outputs": [
        {
          "output_type": "execute_result",
          "data": {
            "text/plain": [
              "      id  gender   age  hypertension  heart_disease ever_married  \\\n",
              "0   9046    Male  67.0             0              1          Yes   \n",
              "1  51676  Female  61.0             0              0          Yes   \n",
              "2  31112    Male  80.0             0              1          Yes   \n",
              "3  60182  Female  49.0             0              0          Yes   \n",
              "4   1665  Female  79.0             1              0          Yes   \n",
              "\n",
              "       work_type Residence_type  avg_glucose_level   bmi   smoking_status  \\\n",
              "0        Private          Urban             228.69  36.6  formerly smoked   \n",
              "1  Self-employed          Rural             202.21   NaN     never smoked   \n",
              "2        Private          Rural             105.92  32.5     never smoked   \n",
              "3        Private          Urban             171.23  34.4           smokes   \n",
              "4  Self-employed          Rural             174.12  24.0     never smoked   \n",
              "\n",
              "   stroke  \n",
              "0       1  \n",
              "1       1  \n",
              "2       1  \n",
              "3       1  \n",
              "4       1  "
            ],
            "text/html": [
              "<div>\n",
              "<style scoped>\n",
              "    .dataframe tbody tr th:only-of-type {\n",
              "        vertical-align: middle;\n",
              "    }\n",
              "\n",
              "    .dataframe tbody tr th {\n",
              "        vertical-align: top;\n",
              "    }\n",
              "\n",
              "    .dataframe thead th {\n",
              "        text-align: right;\n",
              "    }\n",
              "</style>\n",
              "<table border=\"1\" class=\"dataframe\">\n",
              "  <thead>\n",
              "    <tr style=\"text-align: right;\">\n",
              "      <th></th>\n",
              "      <th>id</th>\n",
              "      <th>gender</th>\n",
              "      <th>age</th>\n",
              "      <th>hypertension</th>\n",
              "      <th>heart_disease</th>\n",
              "      <th>ever_married</th>\n",
              "      <th>work_type</th>\n",
              "      <th>Residence_type</th>\n",
              "      <th>avg_glucose_level</th>\n",
              "      <th>bmi</th>\n",
              "      <th>smoking_status</th>\n",
              "      <th>stroke</th>\n",
              "    </tr>\n",
              "  </thead>\n",
              "  <tbody>\n",
              "    <tr>\n",
              "      <th>0</th>\n",
              "      <td>9046</td>\n",
              "      <td>Male</td>\n",
              "      <td>67.0</td>\n",
              "      <td>0</td>\n",
              "      <td>1</td>\n",
              "      <td>Yes</td>\n",
              "      <td>Private</td>\n",
              "      <td>Urban</td>\n",
              "      <td>228.69</td>\n",
              "      <td>36.6</td>\n",
              "      <td>formerly smoked</td>\n",
              "      <td>1</td>\n",
              "    </tr>\n",
              "    <tr>\n",
              "      <th>1</th>\n",
              "      <td>51676</td>\n",
              "      <td>Female</td>\n",
              "      <td>61.0</td>\n",
              "      <td>0</td>\n",
              "      <td>0</td>\n",
              "      <td>Yes</td>\n",
              "      <td>Self-employed</td>\n",
              "      <td>Rural</td>\n",
              "      <td>202.21</td>\n",
              "      <td>NaN</td>\n",
              "      <td>never smoked</td>\n",
              "      <td>1</td>\n",
              "    </tr>\n",
              "    <tr>\n",
              "      <th>2</th>\n",
              "      <td>31112</td>\n",
              "      <td>Male</td>\n",
              "      <td>80.0</td>\n",
              "      <td>0</td>\n",
              "      <td>1</td>\n",
              "      <td>Yes</td>\n",
              "      <td>Private</td>\n",
              "      <td>Rural</td>\n",
              "      <td>105.92</td>\n",
              "      <td>32.5</td>\n",
              "      <td>never smoked</td>\n",
              "      <td>1</td>\n",
              "    </tr>\n",
              "    <tr>\n",
              "      <th>3</th>\n",
              "      <td>60182</td>\n",
              "      <td>Female</td>\n",
              "      <td>49.0</td>\n",
              "      <td>0</td>\n",
              "      <td>0</td>\n",
              "      <td>Yes</td>\n",
              "      <td>Private</td>\n",
              "      <td>Urban</td>\n",
              "      <td>171.23</td>\n",
              "      <td>34.4</td>\n",
              "      <td>smokes</td>\n",
              "      <td>1</td>\n",
              "    </tr>\n",
              "    <tr>\n",
              "      <th>4</th>\n",
              "      <td>1665</td>\n",
              "      <td>Female</td>\n",
              "      <td>79.0</td>\n",
              "      <td>1</td>\n",
              "      <td>0</td>\n",
              "      <td>Yes</td>\n",
              "      <td>Self-employed</td>\n",
              "      <td>Rural</td>\n",
              "      <td>174.12</td>\n",
              "      <td>24.0</td>\n",
              "      <td>never smoked</td>\n",
              "      <td>1</td>\n",
              "    </tr>\n",
              "  </tbody>\n",
              "</table>\n",
              "</div>"
            ]
          },
          "metadata": {
            "tags": []
          },
          "execution_count": 3
        }
      ]
    },
    {
      "cell_type": "markdown",
      "metadata": {
        "id": "5dG3by-UYBAL"
      },
      "source": [
        "Note:\n",
        "\n",
        "* From the table above, we can drop id column as it has no impact on our model.\n",
        "* The outcome variable is the final column \"Stroke\", we will drop it later and assign it as the target y."
      ]
    },
    {
      "cell_type": "code",
      "metadata": {
        "trusted": true,
        "id": "gKsJ-_7RYBAM",
        "outputId": "2d1c9be5-3c71-490f-af50-f4da583d8c15"
      },
      "source": [
        "# Check the data shape\n",
        "df.shape"
      ],
      "execution_count": null,
      "outputs": [
        {
          "output_type": "execute_result",
          "data": {
            "text/plain": [
              "(5110, 12)"
            ]
          },
          "metadata": {
            "tags": []
          },
          "execution_count": 4
        }
      ]
    },
    {
      "cell_type": "code",
      "metadata": {
        "trusted": true,
        "id": "69O-l9GHYBAO",
        "outputId": "51a2d70c-57b5-4075-df57-8a4eced03ab5"
      },
      "source": [
        "df.info()"
      ],
      "execution_count": null,
      "outputs": [
        {
          "output_type": "stream",
          "text": [
            "<class 'pandas.core.frame.DataFrame'>\n",
            "RangeIndex: 5110 entries, 0 to 5109\n",
            "Data columns (total 12 columns):\n",
            " #   Column             Non-Null Count  Dtype  \n",
            "---  ------             --------------  -----  \n",
            " 0   id                 5110 non-null   int64  \n",
            " 1   gender             5110 non-null   object \n",
            " 2   age                5110 non-null   float64\n",
            " 3   hypertension       5110 non-null   int64  \n",
            " 4   heart_disease      5110 non-null   int64  \n",
            " 5   ever_married       5110 non-null   object \n",
            " 6   work_type          5110 non-null   object \n",
            " 7   Residence_type     5110 non-null   object \n",
            " 8   avg_glucose_level  5110 non-null   float64\n",
            " 9   bmi                4909 non-null   float64\n",
            " 10  smoking_status     5110 non-null   object \n",
            " 11  stroke             5110 non-null   int64  \n",
            "dtypes: float64(3), int64(4), object(5)\n",
            "memory usage: 479.2+ KB\n"
          ],
          "name": "stdout"
        }
      ]
    },
    {
      "cell_type": "markdown",
      "metadata": {
        "id": "KKXV3Mf6YBAP"
      },
      "source": [
        "* bmi has 201 missing values.\n",
        "* Think about how to deal with bmi missing value later? dropna values? or fill them with the mean bmi based on gender?"
      ]
    },
    {
      "cell_type": "code",
      "metadata": {
        "trusted": true,
        "id": "whcXixnRYBAQ",
        "outputId": "a42b3b42-6cfe-486b-dd5d-123b8cae1992"
      },
      "source": [
        "df.describe()"
      ],
      "execution_count": null,
      "outputs": [
        {
          "output_type": "execute_result",
          "data": {
            "text/plain": [
              "                 id          age  hypertension  heart_disease  \\\n",
              "count   5110.000000  5110.000000   5110.000000    5110.000000   \n",
              "mean   36517.829354    43.226614      0.097456       0.054012   \n",
              "std    21161.721625    22.612647      0.296607       0.226063   \n",
              "min       67.000000     0.080000      0.000000       0.000000   \n",
              "25%    17741.250000    25.000000      0.000000       0.000000   \n",
              "50%    36932.000000    45.000000      0.000000       0.000000   \n",
              "75%    54682.000000    61.000000      0.000000       0.000000   \n",
              "max    72940.000000    82.000000      1.000000       1.000000   \n",
              "\n",
              "       avg_glucose_level          bmi       stroke  \n",
              "count        5110.000000  4909.000000  5110.000000  \n",
              "mean          106.147677    28.893237     0.048728  \n",
              "std            45.283560     7.854067     0.215320  \n",
              "min            55.120000    10.300000     0.000000  \n",
              "25%            77.245000    23.500000     0.000000  \n",
              "50%            91.885000    28.100000     0.000000  \n",
              "75%           114.090000    33.100000     0.000000  \n",
              "max           271.740000    97.600000     1.000000  "
            ],
            "text/html": [
              "<div>\n",
              "<style scoped>\n",
              "    .dataframe tbody tr th:only-of-type {\n",
              "        vertical-align: middle;\n",
              "    }\n",
              "\n",
              "    .dataframe tbody tr th {\n",
              "        vertical-align: top;\n",
              "    }\n",
              "\n",
              "    .dataframe thead th {\n",
              "        text-align: right;\n",
              "    }\n",
              "</style>\n",
              "<table border=\"1\" class=\"dataframe\">\n",
              "  <thead>\n",
              "    <tr style=\"text-align: right;\">\n",
              "      <th></th>\n",
              "      <th>id</th>\n",
              "      <th>age</th>\n",
              "      <th>hypertension</th>\n",
              "      <th>heart_disease</th>\n",
              "      <th>avg_glucose_level</th>\n",
              "      <th>bmi</th>\n",
              "      <th>stroke</th>\n",
              "    </tr>\n",
              "  </thead>\n",
              "  <tbody>\n",
              "    <tr>\n",
              "      <th>count</th>\n",
              "      <td>5110.000000</td>\n",
              "      <td>5110.000000</td>\n",
              "      <td>5110.000000</td>\n",
              "      <td>5110.000000</td>\n",
              "      <td>5110.000000</td>\n",
              "      <td>4909.000000</td>\n",
              "      <td>5110.000000</td>\n",
              "    </tr>\n",
              "    <tr>\n",
              "      <th>mean</th>\n",
              "      <td>36517.829354</td>\n",
              "      <td>43.226614</td>\n",
              "      <td>0.097456</td>\n",
              "      <td>0.054012</td>\n",
              "      <td>106.147677</td>\n",
              "      <td>28.893237</td>\n",
              "      <td>0.048728</td>\n",
              "    </tr>\n",
              "    <tr>\n",
              "      <th>std</th>\n",
              "      <td>21161.721625</td>\n",
              "      <td>22.612647</td>\n",
              "      <td>0.296607</td>\n",
              "      <td>0.226063</td>\n",
              "      <td>45.283560</td>\n",
              "      <td>7.854067</td>\n",
              "      <td>0.215320</td>\n",
              "    </tr>\n",
              "    <tr>\n",
              "      <th>min</th>\n",
              "      <td>67.000000</td>\n",
              "      <td>0.080000</td>\n",
              "      <td>0.000000</td>\n",
              "      <td>0.000000</td>\n",
              "      <td>55.120000</td>\n",
              "      <td>10.300000</td>\n",
              "      <td>0.000000</td>\n",
              "    </tr>\n",
              "    <tr>\n",
              "      <th>25%</th>\n",
              "      <td>17741.250000</td>\n",
              "      <td>25.000000</td>\n",
              "      <td>0.000000</td>\n",
              "      <td>0.000000</td>\n",
              "      <td>77.245000</td>\n",
              "      <td>23.500000</td>\n",
              "      <td>0.000000</td>\n",
              "    </tr>\n",
              "    <tr>\n",
              "      <th>50%</th>\n",
              "      <td>36932.000000</td>\n",
              "      <td>45.000000</td>\n",
              "      <td>0.000000</td>\n",
              "      <td>0.000000</td>\n",
              "      <td>91.885000</td>\n",
              "      <td>28.100000</td>\n",
              "      <td>0.000000</td>\n",
              "    </tr>\n",
              "    <tr>\n",
              "      <th>75%</th>\n",
              "      <td>54682.000000</td>\n",
              "      <td>61.000000</td>\n",
              "      <td>0.000000</td>\n",
              "      <td>0.000000</td>\n",
              "      <td>114.090000</td>\n",
              "      <td>33.100000</td>\n",
              "      <td>0.000000</td>\n",
              "    </tr>\n",
              "    <tr>\n",
              "      <th>max</th>\n",
              "      <td>72940.000000</td>\n",
              "      <td>82.000000</td>\n",
              "      <td>1.000000</td>\n",
              "      <td>1.000000</td>\n",
              "      <td>271.740000</td>\n",
              "      <td>97.600000</td>\n",
              "      <td>1.000000</td>\n",
              "    </tr>\n",
              "  </tbody>\n",
              "</table>\n",
              "</div>"
            ]
          },
          "metadata": {
            "tags": []
          },
          "execution_count": 6
        }
      ]
    },
    {
      "cell_type": "markdown",
      "metadata": {
        "id": "dvu98fhoYBAR"
      },
      "source": [
        "Note: \n",
        "* age: why minimum value is 0.08? is it possible that missing value which is filled with 0 or 0.08? I will check it later.\n",
        "* hypertension & heart disease: they are binary classification, not numerical result.\n"
      ]
    },
    {
      "cell_type": "markdown",
      "metadata": {
        "id": "aA0CIsd-YBAS"
      },
      "source": [
        "## Exploratory Data Analysis¶\n",
        "* Check whether the data is balanced.\n",
        "* Check the correlation between various features and stroke."
      ]
    },
    {
      "cell_type": "code",
      "metadata": {
        "trusted": true,
        "id": "tx8O13JcYBAV",
        "outputId": "3f7c312e-2fc7-48d3-8208-a1ad88ee52c5"
      },
      "source": [
        "# Check the data is balanced.\n",
        "# Assign Stroke feature as the target y.\n",
        "y = df[\"stroke\"]\n",
        "# Check y distribution\n",
        "import matplotlib.pyplot as plt\n",
        "import seaborn as sns\n",
        "# sns.countplot(y)\n",
        "y.value_counts().plot(kind='pie', autopct='%1.1f%%')"
      ],
      "execution_count": null,
      "outputs": [
        {
          "output_type": "execute_result",
          "data": {
            "text/plain": [
              "<AxesSubplot:ylabel='stroke'>"
            ]
          },
          "metadata": {
            "tags": []
          },
          "execution_count": 7
        },
        {
          "output_type": "display_data",
          "data": {
            "text/plain": [
              "<Figure size 432x288 with 1 Axes>"
            ],
            "image/png": "[encoded data removed]"
          },
          "metadata": {
            "tags": []
          }
        }
      ]
    },
    {
      "cell_type": "markdown",
      "metadata": {
        "id": "WuvtP3MMYBAW"
      },
      "source": [
        "* It only has about 5% stroke in this dataset. This means ourdata is imbalanced, so we will do SMOTE to make the balanced data."
      ]
    },
    {
      "cell_type": "markdown",
      "metadata": {
        "id": "6ejXdOe9YBAX"
      },
      "source": [
        "## Categorical Features\n",
        "First of all, I select categorical features and show its relation with stroke.\n",
        "* method: groupby, barplot\n"
      ]
    },
    {
      "cell_type": "code",
      "metadata": {
        "trusted": true,
        "id": "xQElJBwhYBAX",
        "outputId": "4582ff2f-491f-478b-d1fa-0ef5797f4a5e"
      },
      "source": [
        "# Select categorical features\n",
        "cat_features = df.select_dtypes(include=['object']).columns\n",
        "print(cat_features)"
      ],
      "execution_count": null,
      "outputs": [
        {
          "output_type": "stream",
          "text": [
            "Index(['gender', 'ever_married', 'work_type', 'Residence_type',\n",
            "       'smoking_status'],\n",
            "      dtype='object')\n"
          ],
          "name": "stdout"
        }
      ]
    },
    {
      "cell_type": "code",
      "metadata": {
        "trusted": true,
        "id": "fQ5Qz_VkYBAY",
        "outputId": "ee99fc91-594d-40de-9657-b196b23157c7"
      },
      "source": [
        "# gender vs. stroke\n",
        "# method 1: groupby\n",
        "df[['gender', 'stroke']].groupby('gender').mean().sort_values(by = 'stroke', ascending=False)\n",
        "\n",
        "# method 2: groupby + barplot visualization\n",
        "# fig = plt.figure(figsize=(6,4))\n",
        "# ax = fig.gca()\n",
        "# df.groupby('gender')[['stroke']].mean().sort_values(\n",
        "#     by = 'stroke', ascending=False).plot.bar(stacked=False, ax=ax)\n",
        "# ax.set_title('Stroke sorted by Gender')"
      ],
      "execution_count": null,
      "outputs": [
        {
          "output_type": "execute_result",
          "data": {
            "text/plain": [
              "          stroke\n",
              "gender          \n",
              "Male    0.051064\n",
              "Female  0.047094\n",
              "Other   0.000000"
            ],
            "text/html": [
              "<div>\n",
              "<style scoped>\n",
              "    .dataframe tbody tr th:only-of-type {\n",
              "        vertical-align: middle;\n",
              "    }\n",
              "\n",
              "    .dataframe tbody tr th {\n",
              "        vertical-align: top;\n",
              "    }\n",
              "\n",
              "    .dataframe thead th {\n",
              "        text-align: right;\n",
              "    }\n",
              "</style>\n",
              "<table border=\"1\" class=\"dataframe\">\n",
              "  <thead>\n",
              "    <tr style=\"text-align: right;\">\n",
              "      <th></th>\n",
              "      <th>stroke</th>\n",
              "    </tr>\n",
              "    <tr>\n",
              "      <th>gender</th>\n",
              "      <th></th>\n",
              "    </tr>\n",
              "  </thead>\n",
              "  <tbody>\n",
              "    <tr>\n",
              "      <th>Male</th>\n",
              "      <td>0.051064</td>\n",
              "    </tr>\n",
              "    <tr>\n",
              "      <th>Female</th>\n",
              "      <td>0.047094</td>\n",
              "    </tr>\n",
              "    <tr>\n",
              "      <th>Other</th>\n",
              "      <td>0.000000</td>\n",
              "    </tr>\n",
              "  </tbody>\n",
              "</table>\n",
              "</div>"
            ]
          },
          "metadata": {
            "tags": []
          },
          "execution_count": 9
        }
      ]
    },
    {
      "cell_type": "markdown",
      "metadata": {
        "id": "pDu2KFn8YBAY"
      },
      "source": [
        "* From the result, we conclude that stroke raito in male and female is almost equal."
      ]
    },
    {
      "cell_type": "code",
      "metadata": {
        "trusted": true,
        "id": "aDGaokQ1YBAZ",
        "outputId": "8674db89-fd61-44b8-cd4b-79dcc359b959"
      },
      "source": [
        "# gender vs. ever_married\n",
        "df[['ever_married', 'stroke']].groupby('ever_married').mean().sort_values(by='stroke', ascending=False)"
      ],
      "execution_count": null,
      "outputs": [
        {
          "output_type": "execute_result",
          "data": {
            "text/plain": [
              "                stroke\n",
              "ever_married          \n",
              "Yes           0.065613\n",
              "No            0.016505"
            ],
            "text/html": [
              "<div>\n",
              "<style scoped>\n",
              "    .dataframe tbody tr th:only-of-type {\n",
              "        vertical-align: middle;\n",
              "    }\n",
              "\n",
              "    .dataframe tbody tr th {\n",
              "        vertical-align: top;\n",
              "    }\n",
              "\n",
              "    .dataframe thead th {\n",
              "        text-align: right;\n",
              "    }\n",
              "</style>\n",
              "<table border=\"1\" class=\"dataframe\">\n",
              "  <thead>\n",
              "    <tr style=\"text-align: right;\">\n",
              "      <th></th>\n",
              "      <th>stroke</th>\n",
              "    </tr>\n",
              "    <tr>\n",
              "      <th>ever_married</th>\n",
              "      <th></th>\n",
              "    </tr>\n",
              "  </thead>\n",
              "  <tbody>\n",
              "    <tr>\n",
              "      <th>Yes</th>\n",
              "      <td>0.065613</td>\n",
              "    </tr>\n",
              "    <tr>\n",
              "      <th>No</th>\n",
              "      <td>0.016505</td>\n",
              "    </tr>\n",
              "  </tbody>\n",
              "</table>\n",
              "</div>"
            ]
          },
          "metadata": {
            "tags": []
          },
          "execution_count": 10
        }
      ]
    },
    {
      "cell_type": "markdown",
      "metadata": {
        "id": "-WWz27loYBAa"
      },
      "source": [
        "* Umm...It's interesting that people in marriage may have high ratio to get stroke."
      ]
    },
    {
      "cell_type": "code",
      "metadata": {
        "trusted": true,
        "id": "VD-xErMLYBAb",
        "outputId": "a391537a-e5c3-4e90-bbd6-99054e6ebc73"
      },
      "source": [
        "# gender vs. residence type\n",
        "df[['Residence_type', 'stroke']].groupby('Residence_type').mean().sort_values(by='stroke', ascending=False)"
      ],
      "execution_count": null,
      "outputs": [
        {
          "output_type": "execute_result",
          "data": {
            "text/plain": [
              "                  stroke\n",
              "Residence_type          \n",
              "Urban           0.052003\n",
              "Rural           0.045346"
            ],
            "text/html": [
              "<div>\n",
              "<style scoped>\n",
              "    .dataframe tbody tr th:only-of-type {\n",
              "        vertical-align: middle;\n",
              "    }\n",
              "\n",
              "    .dataframe tbody tr th {\n",
              "        vertical-align: top;\n",
              "    }\n",
              "\n",
              "    .dataframe thead th {\n",
              "        text-align: right;\n",
              "    }\n",
              "</style>\n",
              "<table border=\"1\" class=\"dataframe\">\n",
              "  <thead>\n",
              "    <tr style=\"text-align: right;\">\n",
              "      <th></th>\n",
              "      <th>stroke</th>\n",
              "    </tr>\n",
              "    <tr>\n",
              "      <th>Residence_type</th>\n",
              "      <th></th>\n",
              "    </tr>\n",
              "  </thead>\n",
              "  <tbody>\n",
              "    <tr>\n",
              "      <th>Urban</th>\n",
              "      <td>0.052003</td>\n",
              "    </tr>\n",
              "    <tr>\n",
              "      <th>Rural</th>\n",
              "      <td>0.045346</td>\n",
              "    </tr>\n",
              "  </tbody>\n",
              "</table>\n",
              "</div>"
            ]
          },
          "metadata": {
            "tags": []
          },
          "execution_count": 11
        }
      ]
    },
    {
      "cell_type": "markdown",
      "metadata": {
        "id": "BxgHcWFmYBAb"
      },
      "source": [
        "* From the result above, it seems that no difference in residence_type."
      ]
    },
    {
      "cell_type": "code",
      "metadata": {
        "trusted": true,
        "id": "2NiisQb5YBAc",
        "outputId": "b834d13b-321e-4ff2-b2db-79e1e7614411"
      },
      "source": [
        "# work_type vs. stroke\n",
        "# method 1: groupby\n",
        "# df[['work_type', 'stroke']].groupby('work_type').mean().sort_values(by='stroke', ascending=False)\n",
        "\n",
        "# method 2: groupby + barplot \n",
        "fig = plt.figure(figsize=(6,4))\n",
        "ax = fig.gca()\n",
        "df.groupby('work_type')[['stroke']].mean().sort_values(\n",
        "    by = 'stroke', ascending=False).plot.bar(stacked=False, ax=ax)\n",
        "ax.set_title('Stroke sorted by work_type')"
      ],
      "execution_count": null,
      "outputs": [
        {
          "output_type": "execute_result",
          "data": {
            "text/plain": [
              "Text(0.5, 1.0, 'Stroke sorted by work_type')"
            ]
          },
          "metadata": {
            "tags": []
          },
          "execution_count": 12
        },
        {
          "output_type": "display_data",
          "data": {
            "text/plain": [
              "<Figure size 432x288 with 1 Axes>"
            ],
            "image/png": "[encoded data removed]"
          },
          "metadata": {
            "tags": [],
            "needs_background": "light"
          }
        }
      ]
    },
    {
      "cell_type": "markdown",
      "metadata": {
        "id": "aX1RJSpPYBAd"
      },
      "source": [
        "* It shows that people work in private companies have relative high ratio of stroke, while children and never_worked people have less or no stroke. Perhaps working pressure is one of the cause to induce stroke."
      ]
    },
    {
      "cell_type": "code",
      "metadata": {
        "trusted": true,
        "id": "HVO1cyoQYBAd",
        "outputId": "6bdbe2b1-c335-499d-a008-0db1a5ed56c5"
      },
      "source": [
        "# smokig_status vs. smoking_status\n",
        "# method 1: groupby\n",
        "# df[['smoking_status', 'stroke']].groupby('smoking_status').mean().sort_values(by='stroke', ascending=False)\n",
        "\n",
        "# method 2: groupby + barplot \n",
        "fig = plt.figure(figsize=(6,4))\n",
        "ax = fig.gca()\n",
        "df.groupby('smoking_status')[['stroke']].mean().sort_values(\n",
        "    by = 'stroke', ascending=False).plot.bar(stacked=False, ax=ax)\n",
        "ax.set_title('Stroke sorted by smoking_status')"
      ],
      "execution_count": null,
      "outputs": [
        {
          "output_type": "execute_result",
          "data": {
            "text/plain": [
              "Text(0.5, 1.0, 'Stroke sorted by smoking_status')"
            ]
          },
          "metadata": {
            "tags": []
          },
          "execution_count": 13
        },
        {
          "output_type": "display_data",
          "data": {
            "text/plain": [
              "<Figure size 432x288 with 1 Axes>"
            ],
            "image/png": "[encoded data removed]"
          },
          "metadata": {
            "tags": [],
            "needs_background": "light"
          }
        }
      ]
    },
    {
      "cell_type": "markdown",
      "metadata": {
        "id": "zf83759nYBAe"
      },
      "source": [
        "* Smoking maybe a risky factor to get stroke."
      ]
    },
    {
      "cell_type": "markdown",
      "metadata": {
        "id": "L6Qon28vYBAe"
      },
      "source": [
        "#### Hypertension and heart_disease are binary classification, so I use \"groupby\" to present the stroke ratio here."
      ]
    },
    {
      "cell_type": "code",
      "metadata": {
        "trusted": true,
        "id": "7APsp9vbYBAf",
        "outputId": "c2c55ea1-eb1f-4939-d1ba-0b29239bfa23"
      },
      "source": [
        "# heart_disease vs. smoking_status\n",
        "df[['heart_disease', 'stroke']].groupby('heart_disease').mean().sort_values(by='stroke', ascending=False)"
      ],
      "execution_count": null,
      "outputs": [
        {
          "output_type": "execute_result",
          "data": {
            "text/plain": [
              "                 stroke\n",
              "heart_disease          \n",
              "1              0.170290\n",
              "0              0.041787"
            ],
            "text/html": [
              "<div>\n",
              "<style scoped>\n",
              "    .dataframe tbody tr th:only-of-type {\n",
              "        vertical-align: middle;\n",
              "    }\n",
              "\n",
              "    .dataframe tbody tr th {\n",
              "        vertical-align: top;\n",
              "    }\n",
              "\n",
              "    .dataframe thead th {\n",
              "        text-align: right;\n",
              "    }\n",
              "</style>\n",
              "<table border=\"1\" class=\"dataframe\">\n",
              "  <thead>\n",
              "    <tr style=\"text-align: right;\">\n",
              "      <th></th>\n",
              "      <th>stroke</th>\n",
              "    </tr>\n",
              "    <tr>\n",
              "      <th>heart_disease</th>\n",
              "      <th></th>\n",
              "    </tr>\n",
              "  </thead>\n",
              "  <tbody>\n",
              "    <tr>\n",
              "      <th>1</th>\n",
              "      <td>0.170290</td>\n",
              "    </tr>\n",
              "    <tr>\n",
              "      <th>0</th>\n",
              "      <td>0.041787</td>\n",
              "    </tr>\n",
              "  </tbody>\n",
              "</table>\n",
              "</div>"
            ]
          },
          "metadata": {
            "tags": []
          },
          "execution_count": 14
        }
      ]
    },
    {
      "cell_type": "code",
      "metadata": {
        "trusted": true,
        "id": "kwBy9wR_YBAf",
        "outputId": "79d1e52f-79fb-49eb-d7bd-cf7cda3a4e89"
      },
      "source": [
        "# hypertension vs. stroke\n",
        "df[['hypertension', 'stroke']].groupby('hypertension').mean().sort_values(by='stroke', ascending=False)"
      ],
      "execution_count": null,
      "outputs": [
        {
          "output_type": "execute_result",
          "data": {
            "text/plain": [
              "                stroke\n",
              "hypertension          \n",
              "1             0.132530\n",
              "0             0.039679"
            ],
            "text/html": [
              "<div>\n",
              "<style scoped>\n",
              "    .dataframe tbody tr th:only-of-type {\n",
              "        vertical-align: middle;\n",
              "    }\n",
              "\n",
              "    .dataframe tbody tr th {\n",
              "        vertical-align: top;\n",
              "    }\n",
              "\n",
              "    .dataframe thead th {\n",
              "        text-align: right;\n",
              "    }\n",
              "</style>\n",
              "<table border=\"1\" class=\"dataframe\">\n",
              "  <thead>\n",
              "    <tr style=\"text-align: right;\">\n",
              "      <th></th>\n",
              "      <th>stroke</th>\n",
              "    </tr>\n",
              "    <tr>\n",
              "      <th>hypertension</th>\n",
              "      <th></th>\n",
              "    </tr>\n",
              "  </thead>\n",
              "  <tbody>\n",
              "    <tr>\n",
              "      <th>1</th>\n",
              "      <td>0.132530</td>\n",
              "    </tr>\n",
              "    <tr>\n",
              "      <th>0</th>\n",
              "      <td>0.039679</td>\n",
              "    </tr>\n",
              "  </tbody>\n",
              "</table>\n",
              "</div>"
            ]
          },
          "metadata": {
            "tags": []
          },
          "execution_count": 15
        }
      ]
    },
    {
      "cell_type": "markdown",
      "metadata": {
        "id": "h80ZEFjWYBAg"
      },
      "source": [
        "* From the results above, people with hypertension and heart_disease have high potential to get stroke."
      ]
    },
    {
      "cell_type": "markdown",
      "metadata": {
        "id": "aMzAPR3OYBAg"
      },
      "source": [
        "### Numerical features"
      ]
    },
    {
      "cell_type": "code",
      "metadata": {
        "trusted": true,
        "id": "ngMgmE3uYBAg",
        "outputId": "7b4a32ba-786e-47b4-d446-8b3d24737440"
      },
      "source": [
        "df.select_dtypes(exclude=['object']).columns"
      ],
      "execution_count": null,
      "outputs": [
        {
          "output_type": "execute_result",
          "data": {
            "text/plain": [
              "Index(['id', 'age', 'hypertension', 'heart_disease', 'avg_glucose_level',\n",
              "       'bmi', 'stroke'],\n",
              "      dtype='object')"
            ]
          },
          "metadata": {
            "tags": []
          },
          "execution_count": 16
        }
      ]
    },
    {
      "cell_type": "markdown",
      "metadata": {
        "id": "T_2fqyQmYBAh"
      },
      "source": [
        "* For numerical features, I only explor age, avg_glucose_level, and bmi as others I have addressed earlier."
      ]
    },
    {
      "cell_type": "code",
      "metadata": {
        "trusted": true,
        "id": "YzhN-RNCYBAh",
        "outputId": "9515d1f5-ded5-4bcc-eb5f-1fa27ac6d186"
      },
      "source": [
        "for col in ['age', 'avg_glucose_level', 'bmi']:\n",
        "    plt.hist(df[df['stroke']==0][col], 10, alpha=0.5, label='non-stroke')\n",
        "    plt.hist(df[df['stroke']==1][col], 10, alpha=0.5, label='stroke')\n",
        "    plt.legend(loc='upper right')\n",
        "    plt.xlabel(col)\n",
        "    plt.ylabel('Frequency')\n",
        "    plt.title('Histogram of {}'.format(col))\n",
        "    plt.show()"
      ],
      "execution_count": null,
      "outputs": [
        {
          "output_type": "display_data",
          "data": {
            "text/plain": [
              "<Figure size 432x288 with 1 Axes>"
            ],
            "image/png": "[encoded data removed]"
          },
          "metadata": {
            "tags": [],
            "needs_background": "light"
          }
        },
        {
          "output_type": "display_data",
          "data": {
            "text/plain": [
              "<Figure size 432x288 with 1 Axes>"
            ],
            "image/png": "[encoded data removed]"
          },
          "metadata": {
            "tags": [],
            "needs_background": "light"
          }
        },
        {
          "output_type": "display_data",
          "data": {
            "text/plain": [
              "<Figure size 432x288 with 1 Axes>"
            ],
            "image/png": "[encoded data removed]"
          },
          "metadata": {
            "tags": [],
            "needs_background": "light"
          }
        }
      ]
    },
    {
      "cell_type": "markdown",
      "metadata": {
        "id": "SkWpd1qKYBAi"
      },
      "source": [
        "From the 3 plots above:\n",
        "* Older people are more likely to experience stroke.\n",
        "* Although most literatures indicated that avg_glucose_level and bmi are important factors to induce stroke, the plots above seems not show the significant impacts on stroke here. I will use correlation map to check it later."
      ]
    },
    {
      "cell_type": "markdown",
      "metadata": {
        "id": "Wr5ijX99YBAj"
      },
      "source": [
        "### Data Preprocessing\n",
        "* Label-encoding and One-hot encoding\n",
        "* Minimum age: 0.08 or 0?\n",
        "* Dealing with missing values: bmi\n",
        "* scaling features"
      ]
    },
    {
      "cell_type": "code",
      "metadata": {
        "trusted": true,
        "id": "TEJ61U6TYBAj",
        "outputId": "130ab68d-338a-4062-a4dd-fd4e5e6a6876"
      },
      "source": [
        "#Converting Categorical Data to LabelEncoding and One-hot encoding\n",
        "# Label encoding (mapping): gender, ever_married, Residence_type\n",
        "df[\"gender\"] = df[\"gender\"].map({\"Male\":0, \"Female\":1, \"Other\":2})\n",
        "df[\"ever_married\"] = df[\"ever_married\"].map({\"No\":0, \"Yes\":1})\n",
        "df[\"Residence_type\"] = df[\"Residence_type\"].map({\"Urban\":0, \"Rural\":1})\n",
        "\n",
        "# One-hot encoding: smoking_status, work_type\n",
        "df = pd.get_dummies(data=df, columns=['smoking_status'])\n",
        "df = pd.get_dummies(data=df, columns=['work_type'])\n",
        "df.head()"
      ],
      "execution_count": null,
      "outputs": [
        {
          "output_type": "execute_result",
          "data": {
            "text/plain": [
              "      id  gender   age  hypertension  heart_disease  ever_married  \\\n",
              "0   9046       0  67.0             0              1             1   \n",
              "1  51676       1  61.0             0              0             1   \n",
              "2  31112       0  80.0             0              1             1   \n",
              "3  60182       1  49.0             0              0             1   \n",
              "4   1665       1  79.0             1              0             1   \n",
              "\n",
              "   Residence_type  avg_glucose_level   bmi  stroke  smoking_status_Unknown  \\\n",
              "0               0             228.69  36.6       1                       0   \n",
              "1               1             202.21   NaN       1                       0   \n",
              "2               1             105.92  32.5       1                       0   \n",
              "3               0             171.23  34.4       1                       0   \n",
              "4               1             174.12  24.0       1                       0   \n",
              "\n",
              "   smoking_status_formerly smoked  smoking_status_never smoked  \\\n",
              "0                               1                            0   \n",
              "1                               0                            1   \n",
              "2                               0                            1   \n",
              "3                               0                            0   \n",
              "4                               0                            1   \n",
              "\n",
              "   smoking_status_smokes  work_type_Govt_job  work_type_Never_worked  \\\n",
              "0                      0                   0                       0   \n",
              "1                      0                   0                       0   \n",
              "2                      0                   0                       0   \n",
              "3                      1                   0                       0   \n",
              "4                      0                   0                       0   \n",
              "\n",
              "   work_type_Private  work_type_Self-employed  work_type_children  \n",
              "0                  1                        0                   0  \n",
              "1                  0                        1                   0  \n",
              "2                  1                        0                   0  \n",
              "3                  1                        0                   0  \n",
              "4                  0                        1                   0  "
            ],
            "text/html": [
              "<div>\n",
              "<style scoped>\n",
              "    .dataframe tbody tr th:only-of-type {\n",
              "        vertical-align: middle;\n",
              "    }\n",
              "\n",
              "    .dataframe tbody tr th {\n",
              "        vertical-align: top;\n",
              "    }\n",
              "\n",
              "    .dataframe thead th {\n",
              "        text-align: right;\n",
              "    }\n",
              "</style>\n",
              "<table border=\"1\" class=\"dataframe\">\n",
              "  <thead>\n",
              "    <tr style=\"text-align: right;\">\n",
              "      <th></th>\n",
              "      <th>id</th>\n",
              "      <th>gender</th>\n",
              "      <th>age</th>\n",
              "      <th>hypertension</th>\n",
              "      <th>heart_disease</th>\n",
              "      <th>ever_married</th>\n",
              "      <th>Residence_type</th>\n",
              "      <th>avg_glucose_level</th>\n",
              "      <th>bmi</th>\n",
              "      <th>stroke</th>\n",
              "      <th>smoking_status_Unknown</th>\n",
              "      <th>smoking_status_formerly smoked</th>\n",
              "      <th>smoking_status_never smoked</th>\n",
              "      <th>smoking_status_smokes</th>\n",
              "      <th>work_type_Govt_job</th>\n",
              "      <th>work_type_Never_worked</th>\n",
              "      <th>work_type_Private</th>\n",
              "      <th>work_type_Self-employed</th>\n",
              "      <th>work_type_children</th>\n",
              "    </tr>\n",
              "  </thead>\n",
              "  <tbody>\n",
              "    <tr>\n",
              "      <th>0</th>\n",
              "      <td>9046</td>\n",
              "      <td>0</td>\n",
              "      <td>67.0</td>\n",
              "      <td>0</td>\n",
              "      <td>1</td>\n",
              "      <td>1</td>\n",
              "      <td>0</td>\n",
              "      <td>228.69</td>\n",
              "      <td>36.6</td>\n",
              "      <td>1</td>\n",
              "      <td>0</td>\n",
              "      <td>1</td>\n",
              "      <td>0</td>\n",
              "      <td>0</td>\n",
              "      <td>0</td>\n",
              "      <td>0</td>\n",
              "      <td>1</td>\n",
              "      <td>0</td>\n",
              "      <td>0</td>\n",
              "    </tr>\n",
              "    <tr>\n",
              "      <th>1</th>\n",
              "      <td>51676</td>\n",
              "      <td>1</td>\n",
              "      <td>61.0</td>\n",
              "      <td>0</td>\n",
              "      <td>0</td>\n",
              "      <td>1</td>\n",
              "      <td>1</td>\n",
              "      <td>202.21</td>\n",
              "      <td>NaN</td>\n",
              "      <td>1</td>\n",
              "      <td>0</td>\n",
              "      <td>0</td>\n",
              "      <td>1</td>\n",
              "      <td>0</td>\n",
              "      <td>0</td>\n",
              "      <td>0</td>\n",
              "      <td>0</td>\n",
              "      <td>1</td>\n",
              "      <td>0</td>\n",
              "    </tr>\n",
              "    <tr>\n",
              "      <th>2</th>\n",
              "      <td>31112</td>\n",
              "      <td>0</td>\n",
              "      <td>80.0</td>\n",
              "      <td>0</td>\n",
              "      <td>1</td>\n",
              "      <td>1</td>\n",
              "      <td>1</td>\n",
              "      <td>105.92</td>\n",
              "      <td>32.5</td>\n",
              "      <td>1</td>\n",
              "      <td>0</td>\n",
              "      <td>0</td>\n",
              "      <td>1</td>\n",
              "      <td>0</td>\n",
              "      <td>0</td>\n",
              "      <td>0</td>\n",
              "      <td>1</td>\n",
              "      <td>0</td>\n",
              "      <td>0</td>\n",
              "    </tr>\n",
              "    <tr>\n",
              "      <th>3</th>\n",
              "      <td>60182</td>\n",
              "      <td>1</td>\n",
              "      <td>49.0</td>\n",
              "      <td>0</td>\n",
              "      <td>0</td>\n",
              "      <td>1</td>\n",
              "      <td>0</td>\n",
              "      <td>171.23</td>\n",
              "      <td>34.4</td>\n",
              "      <td>1</td>\n",
              "      <td>0</td>\n",
              "      <td>0</td>\n",
              "      <td>0</td>\n",
              "      <td>1</td>\n",
              "      <td>0</td>\n",
              "      <td>0</td>\n",
              "      <td>1</td>\n",
              "      <td>0</td>\n",
              "      <td>0</td>\n",
              "    </tr>\n",
              "    <tr>\n",
              "      <th>4</th>\n",
              "      <td>1665</td>\n",
              "      <td>1</td>\n",
              "      <td>79.0</td>\n",
              "      <td>1</td>\n",
              "      <td>0</td>\n",
              "      <td>1</td>\n",
              "      <td>1</td>\n",
              "      <td>174.12</td>\n",
              "      <td>24.0</td>\n",
              "      <td>1</td>\n",
              "      <td>0</td>\n",
              "      <td>0</td>\n",
              "      <td>1</td>\n",
              "      <td>0</td>\n",
              "      <td>0</td>\n",
              "      <td>0</td>\n",
              "      <td>0</td>\n",
              "      <td>1</td>\n",
              "      <td>0</td>\n",
              "    </tr>\n",
              "  </tbody>\n",
              "</table>\n",
              "</div>"
            ]
          },
          "metadata": {
            "tags": []
          },
          "execution_count": 18
        }
      ]
    },
    {
      "cell_type": "markdown",
      "metadata": {
        "id": "W_lpJUP8YBAj"
      },
      "source": [
        "* #### Find out minimum age? 0.08?"
      ]
    },
    {
      "cell_type": "code",
      "metadata": {
        "trusted": true,
        "id": "4OBHv0bbYBAk",
        "outputId": "a64a1c82-da36-477a-b4b9-d60078bf107d"
      },
      "source": [
        "# Age: find out which row, and think about male/female? estimate his/her age.\n",
        "df[df['age']==0.08]"
      ],
      "execution_count": null,
      "outputs": [
        {
          "output_type": "execute_result",
          "data": {
            "text/plain": [
              "         id  gender   age  hypertension  heart_disease  ever_married  \\\n",
              "1614  47350       1  0.08             0              0             0   \n",
              "3295  29955       0  0.08             0              0             0   \n",
              "\n",
              "      Residence_type  avg_glucose_level   bmi  stroke  smoking_status_Unknown  \\\n",
              "1614               0             139.67  14.1       0                       1   \n",
              "3295               1              70.33  16.9       0                       1   \n",
              "\n",
              "      smoking_status_formerly smoked  smoking_status_never smoked  \\\n",
              "1614                               0                            0   \n",
              "3295                               0                            0   \n",
              "\n",
              "      smoking_status_smokes  work_type_Govt_job  work_type_Never_worked  \\\n",
              "1614                      0                   0                       0   \n",
              "3295                      0                   0                       0   \n",
              "\n",
              "      work_type_Private  work_type_Self-employed  work_type_children  \n",
              "1614                  0                        0                   1  \n",
              "3295                  0                        0                   1  "
            ],
            "text/html": [
              "<div>\n",
              "<style scoped>\n",
              "    .dataframe tbody tr th:only-of-type {\n",
              "        vertical-align: middle;\n",
              "    }\n",
              "\n",
              "    .dataframe tbody tr th {\n",
              "        vertical-align: top;\n",
              "    }\n",
              "\n",
              "    .dataframe thead th {\n",
              "        text-align: right;\n",
              "    }\n",
              "</style>\n",
              "<table border=\"1\" class=\"dataframe\">\n",
              "  <thead>\n",
              "    <tr style=\"text-align: right;\">\n",
              "      <th></th>\n",
              "      <th>id</th>\n",
              "      <th>gender</th>\n",
              "      <th>age</th>\n",
              "      <th>hypertension</th>\n",
              "      <th>heart_disease</th>\n",
              "      <th>ever_married</th>\n",
              "      <th>Residence_type</th>\n",
              "      <th>avg_glucose_level</th>\n",
              "      <th>bmi</th>\n",
              "      <th>stroke</th>\n",
              "      <th>smoking_status_Unknown</th>\n",
              "      <th>smoking_status_formerly smoked</th>\n",
              "      <th>smoking_status_never smoked</th>\n",
              "      <th>smoking_status_smokes</th>\n",
              "      <th>work_type_Govt_job</th>\n",
              "      <th>work_type_Never_worked</th>\n",
              "      <th>work_type_Private</th>\n",
              "      <th>work_type_Self-employed</th>\n",
              "      <th>work_type_children</th>\n",
              "    </tr>\n",
              "  </thead>\n",
              "  <tbody>\n",
              "    <tr>\n",
              "      <th>1614</th>\n",
              "      <td>47350</td>\n",
              "      <td>1</td>\n",
              "      <td>0.08</td>\n",
              "      <td>0</td>\n",
              "      <td>0</td>\n",
              "      <td>0</td>\n",
              "      <td>0</td>\n",
              "      <td>139.67</td>\n",
              "      <td>14.1</td>\n",
              "      <td>0</td>\n",
              "      <td>1</td>\n",
              "      <td>0</td>\n",
              "      <td>0</td>\n",
              "      <td>0</td>\n",
              "      <td>0</td>\n",
              "      <td>0</td>\n",
              "      <td>0</td>\n",
              "      <td>0</td>\n",
              "      <td>1</td>\n",
              "    </tr>\n",
              "    <tr>\n",
              "      <th>3295</th>\n",
              "      <td>29955</td>\n",
              "      <td>0</td>\n",
              "      <td>0.08</td>\n",
              "      <td>0</td>\n",
              "      <td>0</td>\n",
              "      <td>0</td>\n",
              "      <td>1</td>\n",
              "      <td>70.33</td>\n",
              "      <td>16.9</td>\n",
              "      <td>0</td>\n",
              "      <td>1</td>\n",
              "      <td>0</td>\n",
              "      <td>0</td>\n",
              "      <td>0</td>\n",
              "      <td>0</td>\n",
              "      <td>0</td>\n",
              "      <td>0</td>\n",
              "      <td>0</td>\n",
              "      <td>1</td>\n",
              "    </tr>\n",
              "  </tbody>\n",
              "</table>\n",
              "</div>"
            ]
          },
          "metadata": {
            "tags": []
          },
          "execution_count": 19
        }
      ]
    },
    {
      "cell_type": "markdown",
      "metadata": {
        "id": "thi3cDJSYBAk"
      },
      "source": [
        "* I found out 2 rows that its age was filled with 0.08. It might be missing value that filled with 0 or 0.08. Anyway, I will correct the value based on its gender and fill it with mean age."
      ]
    },
    {
      "cell_type": "code",
      "metadata": {
        "trusted": true,
        "id": "kv-fJ9-xYBAl"
      },
      "source": [
        "# correct male age\n",
        "male_mean_age = df[df['gender'] == 1]['age'].mean()\n",
        "df.iloc[1614, 2] = round(male_mean_age, 1)\n",
        "\n",
        "# correct female age\n",
        "female_mean_age = df[df['gender'] == 0]['age'].mean()\n",
        "df.iloc[3295, 2] = round(female_mean_age, 1)\n"
      ],
      "execution_count": null,
      "outputs": []
    },
    {
      "cell_type": "markdown",
      "metadata": {
        "id": "-CJrGNYYYBAl"
      },
      "source": [
        "* #### Dealing with missing value: bmi\n",
        "Becasue bmi has 201 missing value, it is relative low ratio in the dataset. I will dropna first, and see what happened after dropna in bmi columns."
      ]
    },
    {
      "cell_type": "code",
      "metadata": {
        "trusted": true,
        "id": "hMY4Uj8mYBAl",
        "outputId": "6344ef62-c981-4108-d043-bd1e359ea835"
      },
      "source": [
        "# drop the rows with missing values\n",
        "df_dropped = df.dropna()\n",
        "print(\"retained {}% of rows\".format(round(100*(df.shape[0] - df_dropped.shape[0])/float(df.shape[0]))))\n"
      ],
      "execution_count": null,
      "outputs": [
        {
          "output_type": "stream",
          "text": [
            "retained 4% of rows\n"
          ],
          "name": "stdout"
        }
      ]
    },
    {
      "cell_type": "markdown",
      "metadata": {
        "id": "UZdMtsoqYBAn"
      },
      "source": [
        "#### some EDA of the dataset before it was dropped and after"
      ]
    },
    {
      "cell_type": "code",
      "metadata": {
        "trusted": true,
        "id": "vRvMISUlYBAn",
        "outputId": "d933de34-3bf0-4d34-87b8-a8f9098b3c46"
      },
      "source": [
        "# before dropped \n",
        "df['stroke'].value_counts(normalize=True)"
      ],
      "execution_count": null,
      "outputs": [
        {
          "output_type": "execute_result",
          "data": {
            "text/plain": [
              "0    0.951272\n",
              "1    0.048728\n",
              "Name: stroke, dtype: float64"
            ]
          },
          "metadata": {
            "tags": []
          },
          "execution_count": 22
        }
      ]
    },
    {
      "cell_type": "code",
      "metadata": {
        "trusted": true,
        "id": "fC4J4f7-YBAn",
        "outputId": "03400002-e05c-48f4-c3fc-5020acd61cdc"
      },
      "source": [
        "# after dropped\n",
        "df_dropped['stroke'].value_counts(normalize=True)\n",
        "\n",
        "# the results are relatively the same"
      ],
      "execution_count": null,
      "outputs": [
        {
          "output_type": "execute_result",
          "data": {
            "text/plain": [
              "0    0.957425\n",
              "1    0.042575\n",
              "Name: stroke, dtype: float64"
            ]
          },
          "metadata": {
            "tags": []
          },
          "execution_count": 23
        }
      ]
    },
    {
      "cell_type": "markdown",
      "metadata": {
        "id": "ol6F8oapYBAo"
      },
      "source": [
        "* No significant changes in stroke/non-stroke after dropping na values. So I use df_dropped dataset for following data preprocessing."
      ]
    },
    {
      "cell_type": "markdown",
      "metadata": {
        "id": "5AG9btRBYBAo"
      },
      "source": [
        "#### Scaling the features: age, avg_glucose_level, bmi"
      ]
    },
    {
      "cell_type": "code",
      "metadata": {
        "trusted": true,
        "id": "x8YEbJnNYBAp"
      },
      "source": [
        "from sklearn.preprocessing import StandardScaler\n",
        "std=StandardScaler()\n",
        "columns = ['age', 'avg_glucose_level','bmi']\n",
        "scaled = std.fit_transform(df[['age', 'avg_glucose_level','bmi']])\n",
        "scaled = pd.DataFrame(scaled,columns=columns)\n",
        "df_dropped=df_dropped.drop(columns=columns,axis=1)"
      ],
      "execution_count": null,
      "outputs": []
    },
    {
      "cell_type": "code",
      "metadata": {
        "trusted": true,
        "id": "-dYwWU9LYBAp",
        "outputId": "31ffd549-65cb-45f9-c125-3b11e5cb075a"
      },
      "source": [
        "df_dropped=df_dropped.merge(scaled, left_index=True, right_index=True, how = \"left\")\n",
        "df_dropped.head()"
      ],
      "execution_count": null,
      "outputs": [
        {
          "output_type": "execute_result",
          "data": {
            "text/plain": [
              "      id  gender  hypertension  heart_disease  ever_married  Residence_type  \\\n",
              "0   9046       0             0              1             1               0   \n",
              "2  31112       0             0              1             1               1   \n",
              "3  60182       1             0              0             1               0   \n",
              "4   1665       1             1              0             1               1   \n",
              "5  56669       0             0              0             1               0   \n",
              "\n",
              "   stroke  smoking_status_Unknown  smoking_status_formerly smoked  \\\n",
              "0       1                       0                               1   \n",
              "2       1                       0                               0   \n",
              "3       1                       0                               0   \n",
              "4       1                       0                               0   \n",
              "5       1                       0                               1   \n",
              "\n",
              "   smoking_status_never smoked  smoking_status_smokes  work_type_Govt_job  \\\n",
              "0                            0                      0                   0   \n",
              "2                            1                      0                   0   \n",
              "3                            0                      1                   0   \n",
              "4                            1                      0                   0   \n",
              "5                            0                      0                   0   \n",
              "\n",
              "   work_type_Never_worked  work_type_Private  work_type_Self-employed  \\\n",
              "0                       0                  1                        0   \n",
              "2                       0                  1                        0   \n",
              "3                       0                  1                        0   \n",
              "4                       0                  0                        1   \n",
              "5                       0                  1                        0   \n",
              "\n",
              "   work_type_children       age  avg_glucose_level       bmi  \n",
              "0                   0  1.051438           2.706375  0.981345  \n",
              "2                   0  1.626804          -0.005028  0.459269  \n",
              "3                   0  0.254778           1.437358  0.701207  \n",
              "4                   0  1.582545           1.501184 -0.623083  \n",
              "5                   0  1.671063           1.768195  0.013595  "
            ],
            "text/html": [
              "<div>\n",
              "<style scoped>\n",
              "    .dataframe tbody tr th:only-of-type {\n",
              "        vertical-align: middle;\n",
              "    }\n",
              "\n",
              "    .dataframe tbody tr th {\n",
              "        vertical-align: top;\n",
              "    }\n",
              "\n",
              "    .dataframe thead th {\n",
              "        text-align: right;\n",
              "    }\n",
              "</style>\n",
              "<table border=\"1\" class=\"dataframe\">\n",
              "  <thead>\n",
              "    <tr style=\"text-align: right;\">\n",
              "      <th></th>\n",
              "      <th>id</th>\n",
              "      <th>gender</th>\n",
              "      <th>hypertension</th>\n",
              "      <th>heart_disease</th>\n",
              "      <th>ever_married</th>\n",
              "      <th>Residence_type</th>\n",
              "      <th>stroke</th>\n",
              "      <th>smoking_status_Unknown</th>\n",
              "      <th>smoking_status_formerly smoked</th>\n",
              "      <th>smoking_status_never smoked</th>\n",
              "      <th>smoking_status_smokes</th>\n",
              "      <th>work_type_Govt_job</th>\n",
              "      <th>work_type_Never_worked</th>\n",
              "      <th>work_type_Private</th>\n",
              "      <th>work_type_Self-employed</th>\n",
              "      <th>work_type_children</th>\n",
              "      <th>age</th>\n",
              "      <th>avg_glucose_level</th>\n",
              "      <th>bmi</th>\n",
              "    </tr>\n",
              "  </thead>\n",
              "  <tbody>\n",
              "    <tr>\n",
              "      <th>0</th>\n",
              "      <td>9046</td>\n",
              "      <td>0</td>\n",
              "      <td>0</td>\n",
              "      <td>1</td>\n",
              "      <td>1</td>\n",
              "      <td>0</td>\n",
              "      <td>1</td>\n",
              "      <td>0</td>\n",
              "      <td>1</td>\n",
              "      <td>0</td>\n",
              "      <td>0</td>\n",
              "      <td>0</td>\n",
              "      <td>0</td>\n",
              "      <td>1</td>\n",
              "      <td>0</td>\n",
              "      <td>0</td>\n",
              "      <td>1.051438</td>\n",
              "      <td>2.706375</td>\n",
              "      <td>0.981345</td>\n",
              "    </tr>\n",
              "    <tr>\n",
              "      <th>2</th>\n",
              "      <td>31112</td>\n",
              "      <td>0</td>\n",
              "      <td>0</td>\n",
              "      <td>1</td>\n",
              "      <td>1</td>\n",
              "      <td>1</td>\n",
              "      <td>1</td>\n",
              "      <td>0</td>\n",
              "      <td>0</td>\n",
              "      <td>1</td>\n",
              "      <td>0</td>\n",
              "      <td>0</td>\n",
              "      <td>0</td>\n",
              "      <td>1</td>\n",
              "      <td>0</td>\n",
              "      <td>0</td>\n",
              "      <td>1.626804</td>\n",
              "      <td>-0.005028</td>\n",
              "      <td>0.459269</td>\n",
              "    </tr>\n",
              "    <tr>\n",
              "      <th>3</th>\n",
              "      <td>60182</td>\n",
              "      <td>1</td>\n",
              "      <td>0</td>\n",
              "      <td>0</td>\n",
              "      <td>1</td>\n",
              "      <td>0</td>\n",
              "      <td>1</td>\n",
              "      <td>0</td>\n",
              "      <td>0</td>\n",
              "      <td>0</td>\n",
              "      <td>1</td>\n",
              "      <td>0</td>\n",
              "      <td>0</td>\n",
              "      <td>1</td>\n",
              "      <td>0</td>\n",
              "      <td>0</td>\n",
              "      <td>0.254778</td>\n",
              "      <td>1.437358</td>\n",
              "      <td>0.701207</td>\n",
              "    </tr>\n",
              "    <tr>\n",
              "      <th>4</th>\n",
              "      <td>1665</td>\n",
              "      <td>1</td>\n",
              "      <td>1</td>\n",
              "      <td>0</td>\n",
              "      <td>1</td>\n",
              "      <td>1</td>\n",
              "      <td>1</td>\n",
              "      <td>0</td>\n",
              "      <td>0</td>\n",
              "      <td>1</td>\n",
              "      <td>0</td>\n",
              "      <td>0</td>\n",
              "      <td>0</td>\n",
              "      <td>0</td>\n",
              "      <td>1</td>\n",
              "      <td>0</td>\n",
              "      <td>1.582545</td>\n",
              "      <td>1.501184</td>\n",
              "      <td>-0.623083</td>\n",
              "    </tr>\n",
              "    <tr>\n",
              "      <th>5</th>\n",
              "      <td>56669</td>\n",
              "      <td>0</td>\n",
              "      <td>0</td>\n",
              "      <td>0</td>\n",
              "      <td>1</td>\n",
              "      <td>0</td>\n",
              "      <td>1</td>\n",
              "      <td>0</td>\n",
              "      <td>1</td>\n",
              "      <td>0</td>\n",
              "      <td>0</td>\n",
              "      <td>0</td>\n",
              "      <td>0</td>\n",
              "      <td>1</td>\n",
              "      <td>0</td>\n",
              "      <td>0</td>\n",
              "      <td>1.671063</td>\n",
              "      <td>1.768195</td>\n",
              "      <td>0.013595</td>\n",
              "    </tr>\n",
              "  </tbody>\n",
              "</table>\n",
              "</div>"
            ]
          },
          "metadata": {
            "tags": []
          },
          "execution_count": 25
        }
      ]
    },
    {
      "cell_type": "code",
      "metadata": {
        "trusted": true,
        "id": "W6qrHjseYBAp",
        "outputId": "16622feb-cd82-49ba-baf2-1c24d955e536"
      },
      "source": [
        "# drop id\n",
        "df_dropped=df_dropped.drop(columns='id',axis=1)\n",
        "df_dropped.head()\n"
      ],
      "execution_count": null,
      "outputs": [
        {
          "output_type": "execute_result",
          "data": {
            "text/plain": [
              "   gender  hypertension  heart_disease  ever_married  Residence_type  stroke  \\\n",
              "0       0             0              1             1               0       1   \n",
              "2       0             0              1             1               1       1   \n",
              "3       1             0              0             1               0       1   \n",
              "4       1             1              0             1               1       1   \n",
              "5       0             0              0             1               0       1   \n",
              "\n",
              "   smoking_status_Unknown  smoking_status_formerly smoked  \\\n",
              "0                       0                               1   \n",
              "2                       0                               0   \n",
              "3                       0                               0   \n",
              "4                       0                               0   \n",
              "5                       0                               1   \n",
              "\n",
              "   smoking_status_never smoked  smoking_status_smokes  work_type_Govt_job  \\\n",
              "0                            0                      0                   0   \n",
              "2                            1                      0                   0   \n",
              "3                            0                      1                   0   \n",
              "4                            1                      0                   0   \n",
              "5                            0                      0                   0   \n",
              "\n",
              "   work_type_Never_worked  work_type_Private  work_type_Self-employed  \\\n",
              "0                       0                  1                        0   \n",
              "2                       0                  1                        0   \n",
              "3                       0                  1                        0   \n",
              "4                       0                  0                        1   \n",
              "5                       0                  1                        0   \n",
              "\n",
              "   work_type_children       age  avg_glucose_level       bmi  \n",
              "0                   0  1.051438           2.706375  0.981345  \n",
              "2                   0  1.626804          -0.005028  0.459269  \n",
              "3                   0  0.254778           1.437358  0.701207  \n",
              "4                   0  1.582545           1.501184 -0.623083  \n",
              "5                   0  1.671063           1.768195  0.013595  "
            ],
            "text/html": [
              "<div>\n",
              "<style scoped>\n",
              "    .dataframe tbody tr th:only-of-type {\n",
              "        vertical-align: middle;\n",
              "    }\n",
              "\n",
              "    .dataframe tbody tr th {\n",
              "        vertical-align: top;\n",
              "    }\n",
              "\n",
              "    .dataframe thead th {\n",
              "        text-align: right;\n",
              "    }\n",
              "</style>\n",
              "<table border=\"1\" class=\"dataframe\">\n",
              "  <thead>\n",
              "    <tr style=\"text-align: right;\">\n",
              "      <th></th>\n",
              "      <th>gender</th>\n",
              "      <th>hypertension</th>\n",
              "      <th>heart_disease</th>\n",
              "      <th>ever_married</th>\n",
              "      <th>Residence_type</th>\n",
              "      <th>stroke</th>\n",
              "      <th>smoking_status_Unknown</th>\n",
              "      <th>smoking_status_formerly smoked</th>\n",
              "      <th>smoking_status_never smoked</th>\n",
              "      <th>smoking_status_smokes</th>\n",
              "      <th>work_type_Govt_job</th>\n",
              "      <th>work_type_Never_worked</th>\n",
              "      <th>work_type_Private</th>\n",
              "      <th>work_type_Self-employed</th>\n",
              "      <th>work_type_children</th>\n",
              "      <th>age</th>\n",
              "      <th>avg_glucose_level</th>\n",
              "      <th>bmi</th>\n",
              "    </tr>\n",
              "  </thead>\n",
              "  <tbody>\n",
              "    <tr>\n",
              "      <th>0</th>\n",
              "      <td>0</td>\n",
              "      <td>0</td>\n",
              "      <td>1</td>\n",
              "      <td>1</td>\n",
              "      <td>0</td>\n",
              "      <td>1</td>\n",
              "      <td>0</td>\n",
              "      <td>1</td>\n",
              "      <td>0</td>\n",
              "      <td>0</td>\n",
              "      <td>0</td>\n",
              "      <td>0</td>\n",
              "      <td>1</td>\n",
              "      <td>0</td>\n",
              "      <td>0</td>\n",
              "      <td>1.051438</td>\n",
              "      <td>2.706375</td>\n",
              "      <td>0.981345</td>\n",
              "    </tr>\n",
              "    <tr>\n",
              "      <th>2</th>\n",
              "      <td>0</td>\n",
              "      <td>0</td>\n",
              "      <td>1</td>\n",
              "      <td>1</td>\n",
              "      <td>1</td>\n",
              "      <td>1</td>\n",
              "      <td>0</td>\n",
              "      <td>0</td>\n",
              "      <td>1</td>\n",
              "      <td>0</td>\n",
              "      <td>0</td>\n",
              "      <td>0</td>\n",
              "      <td>1</td>\n",
              "      <td>0</td>\n",
              "      <td>0</td>\n",
              "      <td>1.626804</td>\n",
              "      <td>-0.005028</td>\n",
              "      <td>0.459269</td>\n",
              "    </tr>\n",
              "    <tr>\n",
              "      <th>3</th>\n",
              "      <td>1</td>\n",
              "      <td>0</td>\n",
              "      <td>0</td>\n",
              "      <td>1</td>\n",
              "      <td>0</td>\n",
              "      <td>1</td>\n",
              "      <td>0</td>\n",
              "      <td>0</td>\n",
              "      <td>0</td>\n",
              "      <td>1</td>\n",
              "      <td>0</td>\n",
              "      <td>0</td>\n",
              "      <td>1</td>\n",
              "      <td>0</td>\n",
              "      <td>0</td>\n",
              "      <td>0.254778</td>\n",
              "      <td>1.437358</td>\n",
              "      <td>0.701207</td>\n",
              "    </tr>\n",
              "    <tr>\n",
              "      <th>4</th>\n",
              "      <td>1</td>\n",
              "      <td>1</td>\n",
              "      <td>0</td>\n",
              "      <td>1</td>\n",
              "      <td>1</td>\n",
              "      <td>1</td>\n",
              "      <td>0</td>\n",
              "      <td>0</td>\n",
              "      <td>1</td>\n",
              "      <td>0</td>\n",
              "      <td>0</td>\n",
              "      <td>0</td>\n",
              "      <td>0</td>\n",
              "      <td>1</td>\n",
              "      <td>0</td>\n",
              "      <td>1.582545</td>\n",
              "      <td>1.501184</td>\n",
              "      <td>-0.623083</td>\n",
              "    </tr>\n",
              "    <tr>\n",
              "      <th>5</th>\n",
              "      <td>0</td>\n",
              "      <td>0</td>\n",
              "      <td>0</td>\n",
              "      <td>1</td>\n",
              "      <td>0</td>\n",
              "      <td>1</td>\n",
              "      <td>0</td>\n",
              "      <td>1</td>\n",
              "      <td>0</td>\n",
              "      <td>0</td>\n",
              "      <td>0</td>\n",
              "      <td>0</td>\n",
              "      <td>1</td>\n",
              "      <td>0</td>\n",
              "      <td>0</td>\n",
              "      <td>1.671063</td>\n",
              "      <td>1.768195</td>\n",
              "      <td>0.013595</td>\n",
              "    </tr>\n",
              "  </tbody>\n",
              "</table>\n",
              "</div>"
            ]
          },
          "metadata": {
            "tags": []
          },
          "execution_count": 26
        }
      ]
    },
    {
      "cell_type": "code",
      "metadata": {
        "trusted": true,
        "id": "VKcCTdB5YBAq",
        "outputId": "8d9b38cb-632f-466b-ddc2-3ace2a9896cf"
      },
      "source": [
        "# look at the heatmap of the correlation matrix of our dataset\n",
        "correlation = df_dropped.corr()\n",
        "\n",
        "fig, ax = plt.subplots(figsize= (16, 12))\n",
        "plt.title(\"Correlation\", size=10)\n",
        "sns.heatmap(correlation, annot=True)\n",
        "plt.show()"
      ],
      "execution_count": null,
      "outputs": [
        {
          "output_type": "display_data",
          "data": {
            "text/plain": [
              "<Figure size 1152x864 with 2 Axes>"
            ],
            "image/png": "[encoded data removed]"
          },
          "metadata": {
            "tags": [],
            "needs_background": "light"
          }
        }
      ]
    },
    {
      "cell_type": "code",
      "metadata": {
        "trusted": true,
        "id": "gkpZh74oYBAr",
        "outputId": "b57f35b1-ce56-4194-ffa7-525295eee58b"
      },
      "source": [
        "correlation[\"stroke\"].sort_values(ascending=False).head(10)"
      ],
      "execution_count": null,
      "outputs": [
        {
          "output_type": "execute_result",
          "data": {
            "text/plain": [
              "stroke                            1.000000\n",
              "age                               0.232337\n",
              "hypertension                      0.142515\n",
              "avg_glucose_level                 0.138936\n",
              "heart_disease                     0.137938\n",
              "ever_married                      0.105089\n",
              "smoking_status_formerly smoked    0.057320\n",
              "work_type_Self-employed           0.055356\n",
              "bmi                               0.042374\n",
              "smoking_status_smokes             0.021530\n",
              "Name: stroke, dtype: float64"
            ]
          },
          "metadata": {
            "tags": []
          },
          "execution_count": 28
        }
      ]
    },
    {
      "cell_type": "markdown",
      "metadata": {
        "id": "UHnr_SbgYBAs"
      },
      "source": [
        "* The first three, Age, heart_disease and avg_glucose_level, have high correlation with stroke."
      ]
    },
    {
      "cell_type": "markdown",
      "metadata": {
        "id": "2ggccJAsYBAs"
      },
      "source": [
        "# Classification Models"
      ]
    },
    {
      "cell_type": "code",
      "metadata": {
        "trusted": true,
        "id": "KeAnKB60YBAt"
      },
      "source": [
        "from sklearn.linear_model import LogisticRegression\n",
        "from sklearn.neighbors import KNeighborsClassifier\n",
        "from sklearn.svm import SVC\n",
        "from sklearn.ensemble import RandomForestClassifier\n",
        "from xgboost import XGBClassifier"
      ],
      "execution_count": null,
      "outputs": []
    },
    {
      "cell_type": "code",
      "metadata": {
        "trusted": true,
        "id": "ZOdD6m2zYBAt"
      },
      "source": [
        "from sklearn.metrics import accuracy_score, confusion_matrix, classification_report\n",
        "from sklearn.model_selection import cross_val_score"
      ],
      "execution_count": null,
      "outputs": []
    },
    {
      "cell_type": "code",
      "metadata": {
        "trusted": true,
        "id": "8q8cKh7eYBAt"
      },
      "source": [
        "from sklearn.model_selection import train_test_split\n",
        "X = df_dropped.drop(['stroke'], axis=1).values \n",
        "y = df_dropped['stroke'].values\n",
        "X_train, X_test, y_train, y_test = train_test_split(X, y, test_size=0.2, random_state = 0)"
      ],
      "execution_count": null,
      "outputs": []
    },
    {
      "cell_type": "markdown",
      "metadata": {
        "id": "eqariukWYBAu"
      },
      "source": [
        "#### Logistic Regression"
      ]
    },
    {
      "cell_type": "code",
      "metadata": {
        "trusted": true,
        "id": "p5_qyDZ1YBAu",
        "outputId": "937c7278-5373-48b1-8bfc-dcbb93f01b36"
      },
      "source": [
        "model = LogisticRegression(random_state=0)\n",
        "model.fit(X_train, y_train)\n",
        "y_pred = model.predict(X_test)\n",
        "acc_lr = accuracy_score(y_test, y_pred)\n",
        "cm_lr = confusion_matrix(y_test,y_pred)\n",
        "accuracies = cross_val_score(estimator = model, X = X_train, y = y_train, cv = 5)\n",
        "print(\"Logistic Regression: \")\n",
        "print(\"accuracy score: \\n\", acc_lr)\n",
        "print(\"K-Fold Validation Mean Accuracy: {:.2f} %\".format(accuracies.mean()*100))\n",
        "print(\"confusion matrix: \\n\", cm_lr)"
      ],
      "execution_count": null,
      "outputs": [
        {
          "output_type": "stream",
          "text": [
            "Logistic Regression: \n",
            "accuracy score: \n",
            " 0.9562118126272913\n",
            "K-Fold Validation Mean Accuracy: 95.80 %\n",
            "confusion matrix: \n",
            " [[939   0]\n",
            " [ 43   0]]\n"
          ],
          "name": "stdout"
        }
      ]
    },
    {
      "cell_type": "markdown",
      "metadata": {
        "id": "Qvk9Q2SnYBAu"
      },
      "source": [
        "#### SVM"
      ]
    },
    {
      "cell_type": "code",
      "metadata": {
        "trusted": true,
        "id": "XnVjEZWQYBAv",
        "outputId": "6b774060-536b-4b7b-d469-b1ccde7a3bd0"
      },
      "source": [
        "model = SVC()\n",
        "model.fit(X_train, y_train)\n",
        "y_pred = model.predict(X_test)\n",
        "acc_svc = accuracy_score(y_test, y_pred)\n",
        "accuracies = cross_val_score(estimator = model, X = X_train, y = y_train, cv = 5)\n",
        "cm_svc = confusion_matrix(y_test,y_pred)\n",
        "print(\"SVM: \")\n",
        "print(\"accuracy score: \\n\", acc_svc)\n",
        "print(\"K-Fold Validation Mean Accuracy: {:.2f} %\".format(accuracies.mean()*100))\n",
        "print(\"confusion matrix: \\n\", cm_svc)"
      ],
      "execution_count": null,
      "outputs": [
        {
          "output_type": "stream",
          "text": [
            "SVM: \n",
            "accuracy score: \n",
            " 0.9562118126272913\n",
            "K-Fold Validation Mean Accuracy: 95.77 %\n",
            "confusion matrix: \n",
            " [[939   0]\n",
            " [ 43   0]]\n"
          ],
          "name": "stdout"
        }
      ]
    },
    {
      "cell_type": "markdown",
      "metadata": {
        "id": "I6FW2U6KYBAv"
      },
      "source": [
        "#### KNN"
      ]
    },
    {
      "cell_type": "code",
      "metadata": {
        "trusted": true,
        "id": "hqF0dQLGYBAw",
        "outputId": "ee8a0b9c-f685-401c-a278-a910af13378f"
      },
      "source": [
        "model = KNeighborsClassifier()\n",
        "model.fit(X_train, y_train)\n",
        "y_pred = model.predict(X_test)\n",
        "acc_knn = accuracy_score(y_test, y_pred)\n",
        "accuracies = cross_val_score(estimator = model, X = X_train, y = y_train, cv = 5)\n",
        "cm_knn = confusion_matrix(y_test, y_pred)\n",
        "print(\"KNN: \")\n",
        "print(\"knn accuracy: \\n\", acc_knn)\n",
        "print(\"K-Fold Validation Mean Accuracy: {:.2f} %\".format(accuracies.mean()*100))\n",
        "print(\"knn confusion matrix: \\n\", cm_knn)"
      ],
      "execution_count": null,
      "outputs": [
        {
          "output_type": "stream",
          "text": [
            "KNN: \n",
            "knn accuracy: \n",
            " 0.9541751527494908\n",
            "K-Fold Validation Mean Accuracy: 95.59 %\n",
            "knn confusion matrix: \n",
            " [[936   3]\n",
            " [ 42   1]]\n"
          ],
          "name": "stdout"
        }
      ]
    },
    {
      "cell_type": "markdown",
      "metadata": {
        "id": "RUOS1anCYBAw"
      },
      "source": [
        "#### Random Forest"
      ]
    },
    {
      "cell_type": "code",
      "metadata": {
        "trusted": true,
        "id": "m8OLvsc6YBAw",
        "outputId": "e181e8d0-de1d-4c80-8a59-91b5d4d237c6"
      },
      "source": [
        "model = RandomForestClassifier(n_estimators = 100)\n",
        "model.fit(X_train, y_train)\n",
        "y_pred = model.predict(X_test)\n",
        "acc_rfc = accuracy_score(y_test, y_pred)\n",
        "accuracies = cross_val_score(estimator = model, X = X_train, y = y_train, cv = 5)\n",
        "cm_rfc = confusion_matrix(y_test, y_pred)\n",
        "print(\"Random Forest Classifier:\")\n",
        "print(\"accuracy score: \\n\", acc_rfc)\n",
        "print(\"K-Fold Validation Mean Accuracy: {:.2f} %\".format(accuracies.mean()*100))\n",
        "print(\"confusion matrix: \\n\", cm_rfc)"
      ],
      "execution_count": null,
      "outputs": [
        {
          "output_type": "stream",
          "text": [
            "Random Forest Classifier:\n",
            "accuracy score: \n",
            " 0.9562118126272913\n",
            "K-Fold Validation Mean Accuracy: 95.67 %\n",
            "confusion matrix: \n",
            " [[939   0]\n",
            " [ 43   0]]\n"
          ],
          "name": "stdout"
        }
      ]
    },
    {
      "cell_type": "markdown",
      "metadata": {
        "id": "XeF1pgmVYBAy"
      },
      "source": [
        "#### XGBoost"
      ]
    },
    {
      "cell_type": "code",
      "metadata": {
        "trusted": true,
        "id": "m8N2TrhIYBAy",
        "outputId": "a4199108-a769-4737-bda8-2e81a270a7a0"
      },
      "source": [
        "model = XGBClassifier(random_state=0)\n",
        "model.fit(X_train, y_train)\n",
        "y_pred = model.predict(X_test)\n",
        "acc_xgb = accuracy_score(y_test, y_pred)\n",
        "accuracies = cross_val_score(estimator = model, X = X_train, y = y_train, cv = 5)\n",
        "cm_xgb = confusion_matrix(y_test, y_pred)\n",
        "print(\"XGBoost:\")\n",
        "print(\"accuracy score: \\n\", acc_xgb)\n",
        "print(\"K-Fold Validation Mean Accuracy: {:.2f} %\".format(accuracies.mean()*100))\n",
        "print(\"confusion matrix: \\n\", cm_xgb)"
      ],
      "execution_count": null,
      "outputs": [
        {
          "output_type": "stream",
          "text": [
            "[07:40:14] WARNING: ../src/learner.cc:1061: Starting in XGBoost 1.3.0, the default evaluation metric used with the objective 'binary:logistic' was changed from 'error' to 'logloss'. Explicitly set eval_metric if you'd like to restore the old behavior.\n",
            "[07:40:15] WARNING: ../src/learner.cc:1061: Starting in XGBoost 1.3.0, the default evaluation metric used with the objective 'binary:logistic' was changed from 'error' to 'logloss'. Explicitly set eval_metric if you'd like to restore the old behavior.\n",
            "[07:40:15] WARNING: ../src/learner.cc:1061: Starting in XGBoost 1.3.0, the default evaluation metric used with the objective 'binary:logistic' was changed from 'error' to 'logloss'. Explicitly set eval_metric if you'd like to restore the old behavior.\n",
            "[07:40:15] WARNING: ../src/learner.cc:1061: Starting in XGBoost 1.3.0, the default evaluation metric used with the objective 'binary:logistic' was changed from 'error' to 'logloss'. Explicitly set eval_metric if you'd like to restore the old behavior.\n",
            "[07:40:16] WARNING: ../src/learner.cc:1061: Starting in XGBoost 1.3.0, the default evaluation metric used with the objective 'binary:logistic' was changed from 'error' to 'logloss'. Explicitly set eval_metric if you'd like to restore the old behavior.\n",
            "[07:40:16] WARNING: ../src/learner.cc:1061: Starting in XGBoost 1.3.0, the default evaluation metric used with the objective 'binary:logistic' was changed from 'error' to 'logloss'. Explicitly set eval_metric if you'd like to restore the old behavior.\n",
            "XGBoost:\n",
            "accuracy score: \n",
            " 0.955193482688391\n",
            "K-Fold Validation Mean Accuracy: 94.81 %\n",
            "confusion matrix: \n",
            " [[936   3]\n",
            " [ 41   2]]\n"
          ],
          "name": "stdout"
        }
      ]
    },
    {
      "cell_type": "markdown",
      "metadata": {
        "id": "YvxZ_NWMYBAy"
      },
      "source": [
        "### Tuning the model"
      ]
    },
    {
      "cell_type": "code",
      "metadata": {
        "trusted": true,
        "id": "yyypYtIoYBAz",
        "outputId": "57e04c24-07b5-4bb0-8715-0a5dd8af27ba"
      },
      "source": [
        "from sklearn.model_selection import GridSearchCV\n",
        "\n",
        "X_dropped = df_dropped.drop('stroke', axis=1)\n",
        "y_dropped = df_dropped['stroke']\n",
        "\n",
        "\n",
        "lr_params = {'C':[0.25,0.5,0.75,1]}\n",
        "\n",
        "lr = LogisticRegression()\n",
        "grid = GridSearchCV(lr, lr_params)\n",
        "grid.fit(X_dropped, y_dropped)\n",
        "print(grid.best_score_, grid.best_params_)"
      ],
      "execution_count": null,
      "outputs": [
        {
          "output_type": "stream",
          "text": [
            "0.9576291701181926 {'C': 0.5}\n"
          ],
          "name": "stdout"
        }
      ]
    }
  ]
}